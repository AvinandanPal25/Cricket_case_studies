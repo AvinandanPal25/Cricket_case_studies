{
 "cells": [
  {
   "cell_type": "code",
   "execution_count": 1,
   "metadata": {},
   "outputs": [
    {
     "name": "stderr",
     "output_type": "stream",
     "text": [
      "d:\\Python\\lib\\site-packages\\IPython\\core\\interactiveshell.py:3169: DtypeWarning: Columns (2) have mixed types.Specify dtype option on import or set low_memory=False.\n",
      "  has_raised = await self.run_ast_nodes(code_ast.body, cell_name,\n",
      "d:\\Python\\lib\\site-packages\\IPython\\core\\interactiveshell.py:3169: DtypeWarning: Columns (1) have mixed types.Specify dtype option on import or set low_memory=False.\n",
      "  has_raised = await self.run_ast_nodes(code_ast.body, cell_name,\n"
     ]
    }
   ],
   "source": [
    "import pandas as pd\n",
    "\n",
    "t20 = pd.read_csv('All_T20I.csv')\n",
    "ipl = pd.read_csv('IPL_all.csv')"
   ]
  },
  {
   "cell_type": "code",
   "execution_count": 2,
   "metadata": {},
   "outputs": [],
   "source": [
    "year = []\n",
    "for i in range(len(t20)):\n",
    "    year.append(t20.iloc[i].start_date[:4])\n",
    "t20['Year'] = year\n",
    "\n",
    "year = []\n",
    "for i in range(len(ipl)):\n",
    "    year.append(ipl.iloc[i].start_date[:4])\n",
    "ipl['Year'] = year\n"
   ]
  },
  {
   "cell_type": "code",
   "execution_count": 334,
   "metadata": {},
   "outputs": [],
   "source": [
    "import numpy as np\n",
    "\n",
    "t20['Phase'] = np.where(t20.ball<6.1, 'Powerplay', np.where(t20.ball < 16.1, 'Middle Overs', 'Death'))\n",
    "ipl['Phase'] = np.where(ipl.ball<6.1, 'Powerplay', np.where(ipl.ball < 16.1, 'Middle Overs', 'Death'))"
   ]
  },
  {
   "cell_type": "code",
   "execution_count": 6,
   "metadata": {},
   "outputs": [
    {
     "data": {
      "text/plain": [
       "array(['PA Patel', 'ML Hayden', 'MEK Hussey', 'MS Dhoni', 'SK Raina',\n",
       "       'JDP Oram', 'S Badrinath', 'SP Fleming', 'S Vidyut', 'JA Morkel',\n",
       "       'Joginder Sharma', 'MS Gony', 'M Muralitharan', 'M Ntini',\n",
       "       'S Anirudha', 'CK Kapugedera', 'L Balaji', 'A Mukund',\n",
       "       'A Flintoff', 'T Thushara', 'M Vijay', 'SB Jakati', 'GJ Bailey',\n",
       "       'R Ashwin', 'JM Kemp', 'S Tyagi', 'KB Arun Karthik',\n",
       "       'DE Bollinger', 'SB Styris', 'S Randiv', 'WP Saha', 'DJ Bravo',\n",
       "       'F du Plessis', 'RA Jadeja', 'KMDN Kulasekara', 'B Laughlin',\n",
       "       'AS Rajpoot', 'CH Morris', 'MM Sharma', 'DR Smith', 'BB McCullum',\n",
       "       'M Manhas', 'DJ Hussey', 'A Nehra', 'P Negi', 'RG More',\n",
       "       'SR Watson', 'AT Rayudu', 'KM Jadhav', 'DL Chahar', 'SN Thakur',\n",
       "       'MJ Santner', 'SW Billings', 'Harbhajan Singh', 'MA Wood',\n",
       "       'Imran Tahir', 'DR Shorey', 'SM Curran', 'RD Gaikwad',\n",
       "       'N Jagadeesan', 'MM Ali', 'RV Uthappa', 'DP Conway', 'S Dube',\n",
       "       'D Pretorius', 'CJ Jordan', 'Mukesh Choudhary', 'Simarjeet Singh',\n",
       "       'M Theekshana'], dtype=object)"
      ]
     },
     "execution_count": 6,
     "metadata": {},
     "output_type": "execute_result"
    }
   ],
   "source": [
    "ipl[ipl.batting_team == 'Chennai Super Kings'].striker.unique()"
   ]
  },
  {
   "cell_type": "markdown",
   "metadata": {},
   "source": [
    "#### **Suresh Raina as MR. IPL, what made him stand out from the rest?**"
   ]
  },
  {
   "cell_type": "markdown",
   "metadata": {},
   "source": [
    "###### **Runs per season**\n",
    "###### **Most Runs in IPL**\n",
    "###### **No.of fifties in IPL**\n",
    "###### **Phase wise runs**\n",
    "###### **Seasons when CSK won, GL reached playoffs**\n",
    "###### **bowling, wicket, economy**\n",
    "###### **most catches and run outs list**\n",
    "\n",
    "He is the first player to reach 5000 runs in IPL.\n",
    "He is a fine slip fielder as well as a brilliant boundary-line grabber which saves a lot of crucial runs for the team\n",
    "\n",
    "87 off 25 balls against Kings 11 Punjab in 2014, second qualifier.\n",
    "100 off 53 balls against Kings 11 Punjab in 2013\n",
    "99 off 52 balls against Sunrisers Hyderabad in 2013 two matches after his maiden hundred\n",
    "57 off 35 balls against Mumbai Indians in 2010 final\n",
    "73 off 50 balls against Royal Challengers Bangalore, 1st Qualifying Final"
   ]
  },
  {
   "cell_type": "code",
   "execution_count": 4,
   "metadata": {},
   "outputs": [],
   "source": [
    "raina_df = ipl[ipl.striker == 'SK Raina']"
   ]
  },
  {
   "cell_type": "code",
   "execution_count": 5,
   "metadata": {},
   "outputs": [
    {
     "data": {
      "text/html": [
       "<div>\n",
       "<style scoped>\n",
       "    .dataframe tbody tr th:only-of-type {\n",
       "        vertical-align: middle;\n",
       "    }\n",
       "\n",
       "    .dataframe tbody tr th {\n",
       "        vertical-align: top;\n",
       "    }\n",
       "\n",
       "    .dataframe thead th {\n",
       "        text-align: right;\n",
       "    }\n",
       "</style>\n",
       "<table border=\"1\" class=\"dataframe\">\n",
       "  <thead>\n",
       "    <tr style=\"text-align: right;\">\n",
       "      <th></th>\n",
       "      <th>match_id</th>\n",
       "      <th>season</th>\n",
       "      <th>start_date</th>\n",
       "      <th>venue</th>\n",
       "      <th>innings</th>\n",
       "      <th>ball</th>\n",
       "      <th>batting_team</th>\n",
       "      <th>bowling_team</th>\n",
       "      <th>striker</th>\n",
       "      <th>non_striker</th>\n",
       "      <th>...</th>\n",
       "      <th>noballs</th>\n",
       "      <th>byes</th>\n",
       "      <th>legbyes</th>\n",
       "      <th>penalty</th>\n",
       "      <th>wicket_type</th>\n",
       "      <th>player_dismissed</th>\n",
       "      <th>other_wicket_type</th>\n",
       "      <th>other_player_dismissed</th>\n",
       "      <th>Year</th>\n",
       "      <th>Phase</th>\n",
       "    </tr>\n",
       "  </thead>\n",
       "  <tbody>\n",
       "    <tr>\n",
       "      <th>270</th>\n",
       "      <td>335983</td>\n",
       "      <td>2007/08</td>\n",
       "      <td>2008-04-19</td>\n",
       "      <td>Punjab Cricket Association Stadium, Mohali</td>\n",
       "      <td>1</td>\n",
       "      <td>7.2</td>\n",
       "      <td>Chennai Super Kings</td>\n",
       "      <td>Kings XI Punjab</td>\n",
       "      <td>SK Raina</td>\n",
       "      <td>MEK Hussey</td>\n",
       "      <td>...</td>\n",
       "      <td>NaN</td>\n",
       "      <td>NaN</td>\n",
       "      <td>NaN</td>\n",
       "      <td>NaN</td>\n",
       "      <td>NaN</td>\n",
       "      <td>NaN</td>\n",
       "      <td>NaN</td>\n",
       "      <td>NaN</td>\n",
       "      <td>2008</td>\n",
       "      <td>Middle Overs</td>\n",
       "    </tr>\n",
       "    <tr>\n",
       "      <th>273</th>\n",
       "      <td>335983</td>\n",
       "      <td>2007/08</td>\n",
       "      <td>2008-04-19</td>\n",
       "      <td>Punjab Cricket Association Stadium, Mohali</td>\n",
       "      <td>1</td>\n",
       "      <td>7.5</td>\n",
       "      <td>Chennai Super Kings</td>\n",
       "      <td>Kings XI Punjab</td>\n",
       "      <td>SK Raina</td>\n",
       "      <td>MEK Hussey</td>\n",
       "      <td>...</td>\n",
       "      <td>NaN</td>\n",
       "      <td>NaN</td>\n",
       "      <td>NaN</td>\n",
       "      <td>NaN</td>\n",
       "      <td>NaN</td>\n",
       "      <td>NaN</td>\n",
       "      <td>NaN</td>\n",
       "      <td>NaN</td>\n",
       "      <td>2008</td>\n",
       "      <td>Middle Overs</td>\n",
       "    </tr>\n",
       "    <tr>\n",
       "      <th>274</th>\n",
       "      <td>335983</td>\n",
       "      <td>2007/08</td>\n",
       "      <td>2008-04-19</td>\n",
       "      <td>Punjab Cricket Association Stadium, Mohali</td>\n",
       "      <td>1</td>\n",
       "      <td>7.6</td>\n",
       "      <td>Chennai Super Kings</td>\n",
       "      <td>Kings XI Punjab</td>\n",
       "      <td>SK Raina</td>\n",
       "      <td>MEK Hussey</td>\n",
       "      <td>...</td>\n",
       "      <td>NaN</td>\n",
       "      <td>NaN</td>\n",
       "      <td>NaN</td>\n",
       "      <td>NaN</td>\n",
       "      <td>NaN</td>\n",
       "      <td>NaN</td>\n",
       "      <td>NaN</td>\n",
       "      <td>NaN</td>\n",
       "      <td>2008</td>\n",
       "      <td>Middle Overs</td>\n",
       "    </tr>\n",
       "    <tr>\n",
       "      <th>276</th>\n",
       "      <td>335983</td>\n",
       "      <td>2007/08</td>\n",
       "      <td>2008-04-19</td>\n",
       "      <td>Punjab Cricket Association Stadium, Mohali</td>\n",
       "      <td>1</td>\n",
       "      <td>8.2</td>\n",
       "      <td>Chennai Super Kings</td>\n",
       "      <td>Kings XI Punjab</td>\n",
       "      <td>SK Raina</td>\n",
       "      <td>MEK Hussey</td>\n",
       "      <td>...</td>\n",
       "      <td>NaN</td>\n",
       "      <td>NaN</td>\n",
       "      <td>NaN</td>\n",
       "      <td>NaN</td>\n",
       "      <td>NaN</td>\n",
       "      <td>NaN</td>\n",
       "      <td>NaN</td>\n",
       "      <td>NaN</td>\n",
       "      <td>2008</td>\n",
       "      <td>Middle Overs</td>\n",
       "    </tr>\n",
       "    <tr>\n",
       "      <th>277</th>\n",
       "      <td>335983</td>\n",
       "      <td>2007/08</td>\n",
       "      <td>2008-04-19</td>\n",
       "      <td>Punjab Cricket Association Stadium, Mohali</td>\n",
       "      <td>1</td>\n",
       "      <td>8.3</td>\n",
       "      <td>Chennai Super Kings</td>\n",
       "      <td>Kings XI Punjab</td>\n",
       "      <td>SK Raina</td>\n",
       "      <td>MEK Hussey</td>\n",
       "      <td>...</td>\n",
       "      <td>NaN</td>\n",
       "      <td>NaN</td>\n",
       "      <td>NaN</td>\n",
       "      <td>NaN</td>\n",
       "      <td>NaN</td>\n",
       "      <td>NaN</td>\n",
       "      <td>NaN</td>\n",
       "      <td>NaN</td>\n",
       "      <td>2008</td>\n",
       "      <td>Middle Overs</td>\n",
       "    </tr>\n",
       "    <tr>\n",
       "      <th>...</th>\n",
       "      <td>...</td>\n",
       "      <td>...</td>\n",
       "      <td>...</td>\n",
       "      <td>...</td>\n",
       "      <td>...</td>\n",
       "      <td>...</td>\n",
       "      <td>...</td>\n",
       "      <td>...</td>\n",
       "      <td>...</td>\n",
       "      <td>...</td>\n",
       "      <td>...</td>\n",
       "      <td>...</td>\n",
       "      <td>...</td>\n",
       "      <td>...</td>\n",
       "      <td>...</td>\n",
       "      <td>...</td>\n",
       "      <td>...</td>\n",
       "      <td>...</td>\n",
       "      <td>...</td>\n",
       "      <td>...</td>\n",
       "      <td>...</td>\n",
       "    </tr>\n",
       "    <tr>\n",
       "      <th>204509</th>\n",
       "      <td>1254089</td>\n",
       "      <td>2021</td>\n",
       "      <td>2021-10-02</td>\n",
       "      <td>Zayed Cricket Stadium, Abu Dhabi</td>\n",
       "      <td>1</td>\n",
       "      <td>6.6</td>\n",
       "      <td>Chennai Super Kings</td>\n",
       "      <td>Rajasthan Royals</td>\n",
       "      <td>SK Raina</td>\n",
       "      <td>RD Gaikwad</td>\n",
       "      <td>...</td>\n",
       "      <td>NaN</td>\n",
       "      <td>NaN</td>\n",
       "      <td>NaN</td>\n",
       "      <td>NaN</td>\n",
       "      <td>NaN</td>\n",
       "      <td>NaN</td>\n",
       "      <td>NaN</td>\n",
       "      <td>NaN</td>\n",
       "      <td>2021</td>\n",
       "      <td>Middle Overs</td>\n",
       "    </tr>\n",
       "    <tr>\n",
       "      <th>204510</th>\n",
       "      <td>1254089</td>\n",
       "      <td>2021</td>\n",
       "      <td>2021-10-02</td>\n",
       "      <td>Zayed Cricket Stadium, Abu Dhabi</td>\n",
       "      <td>1</td>\n",
       "      <td>7.1</td>\n",
       "      <td>Chennai Super Kings</td>\n",
       "      <td>Rajasthan Royals</td>\n",
       "      <td>SK Raina</td>\n",
       "      <td>RD Gaikwad</td>\n",
       "      <td>...</td>\n",
       "      <td>NaN</td>\n",
       "      <td>NaN</td>\n",
       "      <td>NaN</td>\n",
       "      <td>NaN</td>\n",
       "      <td>NaN</td>\n",
       "      <td>NaN</td>\n",
       "      <td>NaN</td>\n",
       "      <td>NaN</td>\n",
       "      <td>2021</td>\n",
       "      <td>Middle Overs</td>\n",
       "    </tr>\n",
       "    <tr>\n",
       "      <th>204513</th>\n",
       "      <td>1254089</td>\n",
       "      <td>2021</td>\n",
       "      <td>2021-10-02</td>\n",
       "      <td>Zayed Cricket Stadium, Abu Dhabi</td>\n",
       "      <td>1</td>\n",
       "      <td>7.4</td>\n",
       "      <td>Chennai Super Kings</td>\n",
       "      <td>Rajasthan Royals</td>\n",
       "      <td>SK Raina</td>\n",
       "      <td>RD Gaikwad</td>\n",
       "      <td>...</td>\n",
       "      <td>NaN</td>\n",
       "      <td>NaN</td>\n",
       "      <td>NaN</td>\n",
       "      <td>NaN</td>\n",
       "      <td>NaN</td>\n",
       "      <td>NaN</td>\n",
       "      <td>NaN</td>\n",
       "      <td>NaN</td>\n",
       "      <td>2021</td>\n",
       "      <td>Middle Overs</td>\n",
       "    </tr>\n",
       "    <tr>\n",
       "      <th>204514</th>\n",
       "      <td>1254089</td>\n",
       "      <td>2021</td>\n",
       "      <td>2021-10-02</td>\n",
       "      <td>Zayed Cricket Stadium, Abu Dhabi</td>\n",
       "      <td>1</td>\n",
       "      <td>7.5</td>\n",
       "      <td>Chennai Super Kings</td>\n",
       "      <td>Rajasthan Royals</td>\n",
       "      <td>SK Raina</td>\n",
       "      <td>RD Gaikwad</td>\n",
       "      <td>...</td>\n",
       "      <td>NaN</td>\n",
       "      <td>NaN</td>\n",
       "      <td>NaN</td>\n",
       "      <td>NaN</td>\n",
       "      <td>NaN</td>\n",
       "      <td>NaN</td>\n",
       "      <td>NaN</td>\n",
       "      <td>NaN</td>\n",
       "      <td>2021</td>\n",
       "      <td>Middle Overs</td>\n",
       "    </tr>\n",
       "    <tr>\n",
       "      <th>204518</th>\n",
       "      <td>1254089</td>\n",
       "      <td>2021</td>\n",
       "      <td>2021-10-02</td>\n",
       "      <td>Zayed Cricket Stadium, Abu Dhabi</td>\n",
       "      <td>1</td>\n",
       "      <td>8.3</td>\n",
       "      <td>Chennai Super Kings</td>\n",
       "      <td>Rajasthan Royals</td>\n",
       "      <td>SK Raina</td>\n",
       "      <td>RD Gaikwad</td>\n",
       "      <td>...</td>\n",
       "      <td>NaN</td>\n",
       "      <td>NaN</td>\n",
       "      <td>NaN</td>\n",
       "      <td>NaN</td>\n",
       "      <td>caught</td>\n",
       "      <td>SK Raina</td>\n",
       "      <td>NaN</td>\n",
       "      <td>NaN</td>\n",
       "      <td>2021</td>\n",
       "      <td>Middle Overs</td>\n",
       "    </tr>\n",
       "  </tbody>\n",
       "</table>\n",
       "<p>4177 rows × 24 columns</p>\n",
       "</div>"
      ],
      "text/plain": [
       "        match_id   season  start_date  \\\n",
       "270       335983  2007/08  2008-04-19   \n",
       "273       335983  2007/08  2008-04-19   \n",
       "274       335983  2007/08  2008-04-19   \n",
       "276       335983  2007/08  2008-04-19   \n",
       "277       335983  2007/08  2008-04-19   \n",
       "...          ...      ...         ...   \n",
       "204509   1254089     2021  2021-10-02   \n",
       "204510   1254089     2021  2021-10-02   \n",
       "204513   1254089     2021  2021-10-02   \n",
       "204514   1254089     2021  2021-10-02   \n",
       "204518   1254089     2021  2021-10-02   \n",
       "\n",
       "                                             venue  innings  ball  \\\n",
       "270     Punjab Cricket Association Stadium, Mohali        1   7.2   \n",
       "273     Punjab Cricket Association Stadium, Mohali        1   7.5   \n",
       "274     Punjab Cricket Association Stadium, Mohali        1   7.6   \n",
       "276     Punjab Cricket Association Stadium, Mohali        1   8.2   \n",
       "277     Punjab Cricket Association Stadium, Mohali        1   8.3   \n",
       "...                                            ...      ...   ...   \n",
       "204509            Zayed Cricket Stadium, Abu Dhabi        1   6.6   \n",
       "204510            Zayed Cricket Stadium, Abu Dhabi        1   7.1   \n",
       "204513            Zayed Cricket Stadium, Abu Dhabi        1   7.4   \n",
       "204514            Zayed Cricket Stadium, Abu Dhabi        1   7.5   \n",
       "204518            Zayed Cricket Stadium, Abu Dhabi        1   8.3   \n",
       "\n",
       "               batting_team      bowling_team   striker non_striker  ...  \\\n",
       "270     Chennai Super Kings   Kings XI Punjab  SK Raina  MEK Hussey  ...   \n",
       "273     Chennai Super Kings   Kings XI Punjab  SK Raina  MEK Hussey  ...   \n",
       "274     Chennai Super Kings   Kings XI Punjab  SK Raina  MEK Hussey  ...   \n",
       "276     Chennai Super Kings   Kings XI Punjab  SK Raina  MEK Hussey  ...   \n",
       "277     Chennai Super Kings   Kings XI Punjab  SK Raina  MEK Hussey  ...   \n",
       "...                     ...               ...       ...         ...  ...   \n",
       "204509  Chennai Super Kings  Rajasthan Royals  SK Raina  RD Gaikwad  ...   \n",
       "204510  Chennai Super Kings  Rajasthan Royals  SK Raina  RD Gaikwad  ...   \n",
       "204513  Chennai Super Kings  Rajasthan Royals  SK Raina  RD Gaikwad  ...   \n",
       "204514  Chennai Super Kings  Rajasthan Royals  SK Raina  RD Gaikwad  ...   \n",
       "204518  Chennai Super Kings  Rajasthan Royals  SK Raina  RD Gaikwad  ...   \n",
       "\n",
       "       noballs  byes  legbyes  penalty  wicket_type  player_dismissed  \\\n",
       "270        NaN   NaN      NaN      NaN          NaN               NaN   \n",
       "273        NaN   NaN      NaN      NaN          NaN               NaN   \n",
       "274        NaN   NaN      NaN      NaN          NaN               NaN   \n",
       "276        NaN   NaN      NaN      NaN          NaN               NaN   \n",
       "277        NaN   NaN      NaN      NaN          NaN               NaN   \n",
       "...        ...   ...      ...      ...          ...               ...   \n",
       "204509     NaN   NaN      NaN      NaN          NaN               NaN   \n",
       "204510     NaN   NaN      NaN      NaN          NaN               NaN   \n",
       "204513     NaN   NaN      NaN      NaN          NaN               NaN   \n",
       "204514     NaN   NaN      NaN      NaN          NaN               NaN   \n",
       "204518     NaN   NaN      NaN      NaN       caught          SK Raina   \n",
       "\n",
       "        other_wicket_type  other_player_dismissed  Year         Phase  \n",
       "270                   NaN                     NaN  2008  Middle Overs  \n",
       "273                   NaN                     NaN  2008  Middle Overs  \n",
       "274                   NaN                     NaN  2008  Middle Overs  \n",
       "276                   NaN                     NaN  2008  Middle Overs  \n",
       "277                   NaN                     NaN  2008  Middle Overs  \n",
       "...                   ...                     ...   ...           ...  \n",
       "204509                NaN                     NaN  2021  Middle Overs  \n",
       "204510                NaN                     NaN  2021  Middle Overs  \n",
       "204513                NaN                     NaN  2021  Middle Overs  \n",
       "204514                NaN                     NaN  2021  Middle Overs  \n",
       "204518                NaN                     NaN  2021  Middle Overs  \n",
       "\n",
       "[4177 rows x 24 columns]"
      ]
     },
     "execution_count": 5,
     "metadata": {},
     "output_type": "execute_result"
    }
   ],
   "source": [
    "raina_df"
   ]
  },
  {
   "cell_type": "code",
   "execution_count": 60,
   "metadata": {},
   "outputs": [],
   "source": [
    "yearly_run_df = raina_df.groupby(['Year']).runs_off_bat.sum().reset_index()\n",
    "yearly_ball_df = raina_df.groupby(['Year']).runs_off_bat.count().reset_index()\n",
    "yearly_dot_df = raina_df[raina_df.runs_off_bat==0].groupby(['Year']).runs_off_bat.count().reset_index()\n",
    "yearly_dismissal_df = raina_df[raina_df.player_dismissed=='SK Raina'].groupby(['Year']).player_dismissed.count().reset_index()"
   ]
  },
  {
   "cell_type": "code",
   "execution_count": 61,
   "metadata": {},
   "outputs": [],
   "source": [
    "yearWise_df = yearly_run_df.merge(yearly_ball_df, on = 'Year', how = 'inner').merge(yearly_dot_df, on = 'Year', how = 'inner').merge(yearly_dismissal_df, on = 'Year', how = 'inner')"
   ]
  },
  {
   "cell_type": "code",
   "execution_count": 62,
   "metadata": {},
   "outputs": [],
   "source": [
    "yearWise_df.columns = ['Year', 'Runs_scored', 'Balls_faced', 'Dots_played', 'Dismissed']\n",
    "yearWise_df['team_finished'] = ['2nd', '4th', '1st', '1st', '2nd', '2nd', '3rd', '2nd', '3rd', '7th', '1st', '2nd', '1st']"
   ]
  },
  {
   "cell_type": "code",
   "execution_count": 63,
   "metadata": {},
   "outputs": [],
   "source": [
    "temp = raina_df.groupby(['Year', 'match_id']).runs_off_bat.sum().reset_index()\n",
    "temp_50 = temp[(temp.runs_off_bat>=50) & (temp.runs_off_bat<100)]\n",
    "yr_wise_fifties = temp_50.groupby(['Year']).runs_off_bat.count().reset_index()\n",
    "yr_wise_fifties.columns = ['Year', '50+ scores']"
   ]
  },
  {
   "cell_type": "code",
   "execution_count": 65,
   "metadata": {},
   "outputs": [],
   "source": [
    "yearWise_df = yearWise_df.merge(yr_wise_fifties, on = 'Year', how = 'inner')\n",
    "yearWise_df.to_csv('yearWise_IPL_stat_raina.csv')"
   ]
  },
  {
   "cell_type": "code",
   "execution_count": null,
   "metadata": {},
   "outputs": [],
   "source": []
  },
  {
   "cell_type": "code",
   "execution_count": 46,
   "metadata": {},
   "outputs": [],
   "source": [
    "ipl_top5_scorer = ipl.groupby(['striker']).runs_off_bat.sum().reset_index().sort_values(['runs_off_bat'], ascending = False).reset_index(drop=True).head(5)"
   ]
  },
  {
   "cell_type": "code",
   "execution_count": 47,
   "metadata": {},
   "outputs": [],
   "source": [
    "temp = ipl[ipl.striker.isin(ipl_top5_scorer.striker.tolist())]\n",
    "temp = temp.groupby(['striker', 'match_id']).runs_off_bat.sum().reset_index()\n",
    "temp_50 = temp[(temp.runs_off_bat>=50) & (temp.runs_off_bat<100)]\n",
    "temp_100 = temp[temp.runs_off_bat>=100]\n",
    "most_fifties = temp_50.groupby(['striker']).runs_off_bat.count()\n",
    "most_tons = temp_100.groupby(['striker']).runs_off_bat.count()"
   ]
  },
  {
   "cell_type": "code",
   "execution_count": 48,
   "metadata": {},
   "outputs": [],
   "source": [
    "ipl_top5_scorer = ipl_top5_scorer.merge(most_fifties, on = 'striker', how= 'inner').merge(most_tons, on = 'striker', how = 'inner')\n",
    "ipl_top5_scorer.columns = ['Batter', 'Runs_scored', 'Fifties', 'Tons']\n",
    "ipl_top5_scorer.to_csv('ipl_top5_scorer_details.csv')"
   ]
  },
  {
   "cell_type": "code",
   "execution_count": null,
   "metadata": {},
   "outputs": [],
   "source": []
  },
  {
   "cell_type": "code",
   "execution_count": 6,
   "metadata": {},
   "outputs": [],
   "source": [
    "runs = raina_df.groupby(['Phase']).runs_off_bat.sum().reset_index()\n",
    "balls = raina_df.groupby(['Phase']).runs_off_bat.count().reset_index()\n",
    "dots = raina_df[raina_df.runs_off_bat==0].groupby(['Phase']).runs_off_bat.count().reset_index()\n",
    "boundaries = raina_df[raina_df.runs_off_bat.isin([4,6])].groupby(['Phase']).runs_off_bat.count().reset_index()\n",
    "bound_runs = raina_df[raina_df.runs_off_bat.isin([4,6])].groupby(['Phase']).runs_off_bat.sum().reset_index()\n",
    "dismissed = raina_df[raina_df.player_dismissed == 'SK Raina'].groupby(['Phase']).player_dismissed.count().reset_index()"
   ]
  },
  {
   "cell_type": "code",
   "execution_count": 7,
   "metadata": {},
   "outputs": [],
   "source": [
    "phaseWise_df = runs.merge(balls, on = 'Phase', how = 'inner').merge(dots, on = 'Phase', how = 'inner').merge(boundaries, on = 'Phase', how = 'inner').merge(bound_runs, on = 'Phase', how = 'inner').merge(dismissed, on = 'Phase', how = 'inner')"
   ]
  },
  {
   "cell_type": "code",
   "execution_count": 8,
   "metadata": {},
   "outputs": [],
   "source": [
    "phaseWise_df.columns = ['Phase', 'Runs_scored', 'Balls_faced', 'Dots_played', 'Boundary_cnt', 'Boundary_run', 'Dismissals']\n",
    "phaseWise_df.to_csv('phaseWise_IPL_stat_Raina.csv')"
   ]
  },
  {
   "cell_type": "code",
   "execution_count": 9,
   "metadata": {},
   "outputs": [],
   "source": [
    "raina_bowl_df = ipl[ipl.bowler == 'SK Raina']"
   ]
  },
  {
   "cell_type": "code",
   "execution_count": 112,
   "metadata": {},
   "outputs": [],
   "source": [
    "runs = raina_bowl_df.runs_off_bat.sum() + raina_bowl_df[(raina_bowl_df.legbyes.isnull()) & (raina_bowl_df.byes.isnull())].extras.sum()\n",
    "balls = raina_bowl_df[(raina_bowl_df.wides.isnull()) & (raina_bowl_df.noballs.isnull())].ball.count()\n",
    "wickets = raina_bowl_df[raina_bowl_df.wicket_type.isin(['caught', 'lbw', 'bowled', 'stumped', 'caught and bowled', 'hit wicket'])].player_dismissed.count()"
   ]
  },
  {
   "cell_type": "code",
   "execution_count": 114,
   "metadata": {},
   "outputs": [
    {
     "data": {
      "text/plain": [
       "array(['GC Smith', 'AC Gilchrist', 'VVS Laxman', 'RJ Quiney', 'PP Ojha',\n",
       "       'SR Tendulkar', 'Yuvraj Singh', 'B Lee', 'AT Rayudu', 'RG Sharma',\n",
       "       'MK Tiwary', 'Harbhajan Singh', 'EJG Morgan', 'A Singh',\n",
       "       'SK Warne', 'V Kohli', 'S Dhawan', 'KC Sangakkara', 'GH Vihari',\n",
       "       'NV Ojha', 'DA Warner', 'CH Gayle', 'SP Narine'], dtype=object)"
      ]
     },
     "execution_count": 114,
     "metadata": {},
     "output_type": "execute_result"
    }
   ],
   "source": [
    "raina_bowl_df[raina_bowl_df.wicket_type.isin(['caught', 'lbw', 'bowled', 'stumped', 'caught and bowled', 'hit wicket'])].player_dismissed.unique()"
   ]
  },
  {
   "cell_type": "markdown",
   "metadata": {},
   "source": [
    "#### **What were the main reasons for India’s poor show in the Asia Cup 2022?**"
   ]
  },
  {
   "cell_type": "code",
   "execution_count": 201,
   "metadata": {},
   "outputs": [
    {
     "name": "stderr",
     "output_type": "stream",
     "text": [
      "<ipython-input-201-f2e123c697ad>:2: SettingWithCopyWarning: \n",
      "A value is trying to be set on a copy of a slice from a DataFrame.\n",
      "Try using .loc[row_indexer,col_indexer] = value instead\n",
      "\n",
      "See the caveats in the documentation: https://pandas.pydata.org/pandas-docs/stable/user_guide/indexing.html#returning-a-view-versus-a-copy\n",
      "  asia_cup['Agg_runs'] = asia_cup.runs_off_bat+asia_cup.extras\n",
      "d:\\Python\\lib\\site-packages\\pandas\\core\\frame.py:4441: SettingWithCopyWarning: \n",
      "A value is trying to be set on a copy of a slice from a DataFrame\n",
      "\n",
      "See the caveats in the documentation: https://pandas.pydata.org/pandas-docs/stable/user_guide/indexing.html#returning-a-view-versus-a-copy\n",
      "  return super().rename(\n"
     ]
    }
   ],
   "source": [
    "asia_cup = t20[t20.batting_team.isin(['India', 'Pakistan', 'Afghanistan', 'Sri Lanka', 'Bangladesh', 'Hong Kong']) & (t20.start_date>='2022-08-27') & (t20.start_date<'2022-09-11')]\n",
    "asia_cup['Agg_runs'] = asia_cup.runs_off_bat+asia_cup.extras\n",
    "asia_cup.rename(columns={'ball':'Over'}, inplace = True)"
   ]
  },
  {
   "cell_type": "code",
   "execution_count": 321,
   "metadata": {},
   "outputs": [],
   "source": [
    "vsPAK = asia_cup[asia_cup.start_date == '2022-09-04']\n",
    "vsSL = asia_cup[asia_cup.start_date == '2022-09-06']\n",
    "vsPAK1 = asia_cup[asia_cup.start_date == '2022-08-28']"
   ]
  },
  {
   "cell_type": "code",
   "execution_count": 323,
   "metadata": {},
   "outputs": [],
   "source": [
    "vsPAK_batting = vsPAK[vsPAK.batting_team == 'India']\n",
    "vsPAK1_batting = vsPAK1[vsPAK1.batting_team == 'India']\n",
    "vsPAK_bowling = vsPAK[vsPAK.bowling_team == 'India']\n",
    "vsSL_batting = vsSL[vsSL.batting_team == 'India']\n",
    "vsSL_bowling = vsSL[vsSL.bowling_team == 'India']"
   ]
  },
  {
   "cell_type": "code",
   "execution_count": 325,
   "metadata": {},
   "outputs": [
    {
     "name": "stderr",
     "output_type": "stream",
     "text": [
      "<ipython-input-325-e9928f6f3655>:9: SettingWithCopyWarning: \n",
      "A value is trying to be set on a copy of a slice from a DataFrame.\n",
      "Try using .loc[row_indexer,col_indexer] = value instead\n",
      "\n",
      "See the caveats in the documentation: https://pandas.pydata.org/pandas-docs/stable/user_guide/indexing.html#returning-a-view-versus-a-copy\n",
      "  df['Ball'] = ball\n",
      "<ipython-input-325-e9928f6f3655>:10: SettingWithCopyWarning: \n",
      "A value is trying to be set on a copy of a slice from a DataFrame.\n",
      "Try using .loc[row_indexer,col_indexer] = value instead\n",
      "\n",
      "See the caveats in the documentation: https://pandas.pydata.org/pandas-docs/stable/user_guide/indexing.html#returning-a-view-versus-a-copy\n",
      "  df['Score'] = rolling_score\n",
      "<ipython-input-325-e9928f6f3655>:11: SettingWithCopyWarning: \n",
      "A value is trying to be set on a copy of a slice from a DataFrame.\n",
      "Try using .loc[row_indexer,col_indexer] = value instead\n",
      "\n",
      "See the caveats in the documentation: https://pandas.pydata.org/pandas-docs/stable/user_guide/indexing.html#returning-a-view-versus-a-copy\n",
      "  df['Run-rate'] = round(df.Score/(df.Ball/6),2)\n"
     ]
    }
   ],
   "source": [
    "def innings_progress_maker(df):\n",
    "    rolling_score = []\n",
    "    ball = []\n",
    "    score = 0\n",
    "    for i in range(len(df)):\n",
    "        score+=df.iloc[i].Agg_runs\n",
    "        rolling_score.append(score)\n",
    "        ball.append(i+1)\n",
    "    df['Ball'] = ball\n",
    "    df['Score'] = rolling_score\n",
    "    df['Run-rate'] = round(df.Score/(df.Ball/6),2)\n",
    "    return df[['Over', 'Ball', 'Score', 'Run-rate', 'player_dismissed']]\n",
    "vs_PAK_batting_progress = innings_progress_maker(vsPAK_batting)\n",
    "vs_PAK1_batting_progress = innings_progress_maker(vsPAK1_batting)\n",
    "vs_SL_batting_progress = innings_progress_maker(vsSL_batting)\n",
    "vs_PAK_bowling_progress = innings_progress_maker(vsPAK_bowling)\n",
    "vs_SL_bowling_progress = innings_progress_maker(vsSL_bowling)"
   ]
  },
  {
   "cell_type": "code",
   "execution_count": 326,
   "metadata": {},
   "outputs": [
    {
     "data": {
      "text/html": [
       "<div>\n",
       "<style scoped>\n",
       "    .dataframe tbody tr th:only-of-type {\n",
       "        vertical-align: middle;\n",
       "    }\n",
       "\n",
       "    .dataframe tbody tr th {\n",
       "        vertical-align: top;\n",
       "    }\n",
       "\n",
       "    .dataframe thead th {\n",
       "        text-align: right;\n",
       "    }\n",
       "</style>\n",
       "<table border=\"1\" class=\"dataframe\">\n",
       "  <thead>\n",
       "    <tr style=\"text-align: right;\">\n",
       "      <th></th>\n",
       "      <th>Over</th>\n",
       "      <th>Ball</th>\n",
       "      <th>Score</th>\n",
       "      <th>Run-rate</th>\n",
       "      <th>player_dismissed</th>\n",
       "    </tr>\n",
       "  </thead>\n",
       "  <tbody>\n",
       "    <tr>\n",
       "      <th>351278</th>\n",
       "      <td>0.1</td>\n",
       "      <td>1</td>\n",
       "      <td>1</td>\n",
       "      <td>6.00</td>\n",
       "      <td>NaN</td>\n",
       "    </tr>\n",
       "    <tr>\n",
       "      <th>351279</th>\n",
       "      <td>0.2</td>\n",
       "      <td>2</td>\n",
       "      <td>1</td>\n",
       "      <td>3.00</td>\n",
       "      <td>KL Rahul</td>\n",
       "    </tr>\n",
       "    <tr>\n",
       "      <th>351280</th>\n",
       "      <td>0.3</td>\n",
       "      <td>3</td>\n",
       "      <td>1</td>\n",
       "      <td>2.00</td>\n",
       "      <td>NaN</td>\n",
       "    </tr>\n",
       "    <tr>\n",
       "      <th>351281</th>\n",
       "      <td>0.4</td>\n",
       "      <td>4</td>\n",
       "      <td>1</td>\n",
       "      <td>1.50</td>\n",
       "      <td>NaN</td>\n",
       "    </tr>\n",
       "    <tr>\n",
       "      <th>351282</th>\n",
       "      <td>0.5</td>\n",
       "      <td>5</td>\n",
       "      <td>2</td>\n",
       "      <td>2.40</td>\n",
       "      <td>NaN</td>\n",
       "    </tr>\n",
       "    <tr>\n",
       "      <th>...</th>\n",
       "      <td>...</td>\n",
       "      <td>...</td>\n",
       "      <td>...</td>\n",
       "      <td>...</td>\n",
       "      <td>...</td>\n",
       "    </tr>\n",
       "    <tr>\n",
       "      <th>351397</th>\n",
       "      <td>18.6</td>\n",
       "      <td>120</td>\n",
       "      <td>141</td>\n",
       "      <td>7.05</td>\n",
       "      <td>NaN</td>\n",
       "    </tr>\n",
       "    <tr>\n",
       "      <th>351398</th>\n",
       "      <td>19.1</td>\n",
       "      <td>121</td>\n",
       "      <td>141</td>\n",
       "      <td>6.99</td>\n",
       "      <td>RA Jadeja</td>\n",
       "    </tr>\n",
       "    <tr>\n",
       "      <th>351399</th>\n",
       "      <td>19.2</td>\n",
       "      <td>122</td>\n",
       "      <td>142</td>\n",
       "      <td>6.98</td>\n",
       "      <td>NaN</td>\n",
       "    </tr>\n",
       "    <tr>\n",
       "      <th>351400</th>\n",
       "      <td>19.3</td>\n",
       "      <td>123</td>\n",
       "      <td>142</td>\n",
       "      <td>6.93</td>\n",
       "      <td>NaN</td>\n",
       "    </tr>\n",
       "    <tr>\n",
       "      <th>351401</th>\n",
       "      <td>19.4</td>\n",
       "      <td>124</td>\n",
       "      <td>148</td>\n",
       "      <td>7.16</td>\n",
       "      <td>NaN</td>\n",
       "    </tr>\n",
       "  </tbody>\n",
       "</table>\n",
       "<p>124 rows × 5 columns</p>\n",
       "</div>"
      ],
      "text/plain": [
       "        Over  Ball  Score  Run-rate player_dismissed\n",
       "351278   0.1     1      1      6.00              NaN\n",
       "351279   0.2     2      1      3.00         KL Rahul\n",
       "351280   0.3     3      1      2.00              NaN\n",
       "351281   0.4     4      1      1.50              NaN\n",
       "351282   0.5     5      2      2.40              NaN\n",
       "...      ...   ...    ...       ...              ...\n",
       "351397  18.6   120    141      7.05              NaN\n",
       "351398  19.1   121    141      6.99        RA Jadeja\n",
       "351399  19.2   122    142      6.98              NaN\n",
       "351400  19.3   123    142      6.93              NaN\n",
       "351401  19.4   124    148      7.16              NaN\n",
       "\n",
       "[124 rows x 5 columns]"
      ]
     },
     "execution_count": 326,
     "metadata": {},
     "output_type": "execute_result"
    }
   ],
   "source": [
    "vs_PAK1_batting_progress "
   ]
  },
  {
   "cell_type": "code",
   "execution_count": 272,
   "metadata": {},
   "outputs": [
    {
     "data": {
      "text/html": [
       "<div>\n",
       "<style scoped>\n",
       "    .dataframe tbody tr th:only-of-type {\n",
       "        vertical-align: middle;\n",
       "    }\n",
       "\n",
       "    .dataframe tbody tr th {\n",
       "        vertical-align: top;\n",
       "    }\n",
       "\n",
       "    .dataframe thead th {\n",
       "        text-align: right;\n",
       "    }\n",
       "</style>\n",
       "<table border=\"1\" class=\"dataframe\">\n",
       "  <thead>\n",
       "    <tr style=\"text-align: right;\">\n",
       "      <th></th>\n",
       "      <th>Over</th>\n",
       "      <th>Ball</th>\n",
       "      <th>Score</th>\n",
       "      <th>Run-rate</th>\n",
       "      <th>player_dismissed</th>\n",
       "    </tr>\n",
       "  </thead>\n",
       "  <tbody>\n",
       "    <tr>\n",
       "      <th>353439</th>\n",
       "      <td>0.1</td>\n",
       "      <td>1</td>\n",
       "      <td>4</td>\n",
       "      <td>24.00</td>\n",
       "      <td>NaN</td>\n",
       "    </tr>\n",
       "    <tr>\n",
       "      <th>353440</th>\n",
       "      <td>0.2</td>\n",
       "      <td>2</td>\n",
       "      <td>4</td>\n",
       "      <td>12.00</td>\n",
       "      <td>NaN</td>\n",
       "    </tr>\n",
       "    <tr>\n",
       "      <th>353441</th>\n",
       "      <td>0.3</td>\n",
       "      <td>3</td>\n",
       "      <td>5</td>\n",
       "      <td>10.00</td>\n",
       "      <td>NaN</td>\n",
       "    </tr>\n",
       "    <tr>\n",
       "      <th>353442</th>\n",
       "      <td>0.4</td>\n",
       "      <td>4</td>\n",
       "      <td>5</td>\n",
       "      <td>7.50</td>\n",
       "      <td>NaN</td>\n",
       "    </tr>\n",
       "    <tr>\n",
       "      <th>353443</th>\n",
       "      <td>0.5</td>\n",
       "      <td>5</td>\n",
       "      <td>9</td>\n",
       "      <td>10.80</td>\n",
       "      <td>NaN</td>\n",
       "    </tr>\n",
       "    <tr>\n",
       "      <th>353444</th>\n",
       "      <td>0.6</td>\n",
       "      <td>6</td>\n",
       "      <td>9</td>\n",
       "      <td>9.00</td>\n",
       "      <td>NaN</td>\n",
       "    </tr>\n",
       "    <tr>\n",
       "      <th>353445</th>\n",
       "      <td>1.1</td>\n",
       "      <td>7</td>\n",
       "      <td>9</td>\n",
       "      <td>7.71</td>\n",
       "      <td>NaN</td>\n",
       "    </tr>\n",
       "    <tr>\n",
       "      <th>353446</th>\n",
       "      <td>1.2</td>\n",
       "      <td>8</td>\n",
       "      <td>9</td>\n",
       "      <td>6.75</td>\n",
       "      <td>NaN</td>\n",
       "    </tr>\n",
       "    <tr>\n",
       "      <th>353447</th>\n",
       "      <td>1.3</td>\n",
       "      <td>9</td>\n",
       "      <td>10</td>\n",
       "      <td>6.67</td>\n",
       "      <td>NaN</td>\n",
       "    </tr>\n",
       "    <tr>\n",
       "      <th>353448</th>\n",
       "      <td>1.4</td>\n",
       "      <td>10</td>\n",
       "      <td>11</td>\n",
       "      <td>6.60</td>\n",
       "      <td>NaN</td>\n",
       "    </tr>\n",
       "  </tbody>\n",
       "</table>\n",
       "</div>"
      ],
      "text/plain": [
       "        Over  Ball  Score  Run-rate player_dismissed\n",
       "353439   0.1     1      4     24.00              NaN\n",
       "353440   0.2     2      4     12.00              NaN\n",
       "353441   0.3     3      5     10.00              NaN\n",
       "353442   0.4     4      5      7.50              NaN\n",
       "353443   0.5     5      9     10.80              NaN\n",
       "353444   0.6     6      9      9.00              NaN\n",
       "353445   1.1     7      9      7.71              NaN\n",
       "353446   1.2     8      9      6.75              NaN\n",
       "353447   1.3     9     10      6.67              NaN\n",
       "353448   1.4    10     11      6.60              NaN"
      ]
     },
     "execution_count": 272,
     "metadata": {},
     "output_type": "execute_result"
    }
   ],
   "source": [
    "vs_PAK_bowling_progress.head(10)"
   ]
  },
  {
   "cell_type": "code",
   "execution_count": 213,
   "metadata": {},
   "outputs": [],
   "source": [
    "import seaborn as sns\n",
    "import matplotlib.pyplot as plt"
   ]
  },
  {
   "cell_type": "code",
   "execution_count": 277,
   "metadata": {},
   "outputs": [
    {
     "data": {
      "text/plain": [
       "[0.6, 2.6, 4.6, 6.6, 8.6, 10.6, 12.6, 14.6, 16.6, 18.6]"
      ]
     },
     "execution_count": 277,
     "metadata": {},
     "output_type": "execute_result"
    }
   ],
   "source": [
    "[float(i)+.6 for i in range(0,20,2)]"
   ]
  },
  {
   "cell_type": "code",
   "execution_count": 327,
   "metadata": {},
   "outputs": [],
   "source": [
    "def innings_progress_displayer(df, color, title):\n",
    "    plt.figure(figsize=(8,4))\n",
    "    plot = sns.lineplot(x = \"Over\", y = \"Run-rate\", data=df, linewidth = 2 ,color = color)\n",
    "    plot = sns.lineplot(x = \"Over\", y = \"Run-rate\", marker = \"o\", data=df[df.Over.isin([float(i)+.6 for i in range(0,20,2)])], linewidth = 3 ,color = 'k')\n",
    "    plt.xticks([float(i)+.6 for i in range(0,20,2)], [i for i in range(1,21, 2)])\n",
    "    plt.title(title, fontsize = 17, fontweight = 'bold', color = color)\n",
    "    plt.show()"
   ]
  },
  {
   "cell_type": "code",
   "execution_count": 328,
   "metadata": {},
   "outputs": [
    {
     "data": {
      "image/png": "[encoded data removed]",
      "text/plain": [
       "<Figure size 576x288 with 1 Axes>"
      ]
     },
     "metadata": {
      "needs_background": "light"
     },
     "output_type": "display_data"
    },
    {
     "data": {
      "image/png": "[encoded data removed]",
      "text/plain": [
       "<Figure size 576x288 with 1 Axes>"
      ]
     },
     "metadata": {
      "needs_background": "light"
     },
     "output_type": "display_data"
    },
    {
     "data": {
      "image/png": "[encoded data removed]",
      "text/plain": [
       "<Figure size 576x288 with 1 Axes>"
      ]
     },
     "metadata": {
      "needs_background": "light"
     },
     "output_type": "display_data"
    },
    {
     "data": {
      "image/png": "[encoded data removed]",
      "text/plain": [
       "<Figure size 576x288 with 1 Axes>"
      ]
     },
     "metadata": {
      "needs_background": "light"
     },
     "output_type": "display_data"
    },
    {
     "data": {
      "image/png": "[encoded data removed]",
      "text/plain": [
       "<Figure size 576x288 with 1 Axes>"
      ]
     },
     "metadata": {
      "needs_background": "light"
     },
     "output_type": "display_data"
    }
   ],
   "source": [
    "innings_progress_displayer(vs_PAK_batting_progress, '#2371c4', 'IND Batting progress vs PAK')\n",
    "innings_progress_displayer(vs_PAK1_batting_progress, '#2371c4', 'IND Batting progress vs PAK group stage')\n",
    "innings_progress_displayer(vs_PAK_bowling_progress, '#047546', 'PAK Batting progress vs IND')\n",
    "innings_progress_displayer(vs_SL_batting_progress, '#2371c4', 'IND Batting progress vs SL')\n",
    "innings_progress_displayer(vs_SL_bowling_progress, '#e3a514', 'SL Batting progress vs IND')"
   ]
  },
  {
   "cell_type": "markdown",
   "metadata": {},
   "source": [
    "#### **Which bowlers can replace injured bumrah in the upcoming tournament?**"
   ]
  },
  {
   "cell_type": "code",
   "execution_count": 372,
   "metadata": {},
   "outputs": [
    {
     "name": "stderr",
     "output_type": "stream",
     "text": [
      "<ipython-input-372-f788c974164e>:2: SettingWithCopyWarning: \n",
      "A value is trying to be set on a copy of a slice from a DataFrame.\n",
      "Try using .loc[row_indexer,col_indexer] = value instead\n",
      "\n",
      "See the caveats in the documentation: https://pandas.pydata.org/pandas-docs/stable/user_guide/indexing.html#returning-a-view-versus-a-copy\n",
      "  ind_bowling['Agg_runs'] = ind_bowling.runs_off_bat+ind_bowling.extras\n"
     ]
    }
   ],
   "source": [
    "ind_bowling = t20[t20.bowling_team == 'India']\n",
    "ind_bowling['Agg_runs'] = ind_bowling.runs_off_bat+ind_bowling.extras"
   ]
  },
  {
   "cell_type": "code",
   "execution_count": 373,
   "metadata": {},
   "outputs": [
    {
     "data": {
      "text/plain": [
       "array(['Z Khan', 'S Sreesanth', 'AB Agarkar', 'IK Pathan', 'SR Tendulkar',\n",
       "       'Harbhajan Singh', 'RP Singh', 'Yuvraj Singh', 'Joginder Sharma',\n",
       "       'V Sehwag', 'YK Pathan', 'M Kartik', 'P Kumar', 'I Sharma',\n",
       "       'RA Jadeja', 'PP Ojha', 'RG Sharma', 'SK Raina', 'A Nehra',\n",
       "       'AB Dinda', 'S Tyagi', 'PP Chawla', 'R Vinay Kumar', 'R Ashwin',\n",
       "       'A Mishra', 'MM Patel', 'V Kohli', 'R Sharma', 'UT Yadav',\n",
       "       'L Balaji', 'P Awana', 'B Kumar', 'Mohammed Shami', 'MM Sharma',\n",
       "       'KV Sharma', 'Sandeep Sharma', 'AR Patel', 'STR Binny', 'M Vijay',\n",
       "       'S Aravind', 'JJ Bumrah', 'HH Pandya', 'P Negi', 'JD Unadkat',\n",
       "       'R Dhawan', 'YS Chahal', 'BB Sran', 'DS Kulkarni', 'Parvez Rasool',\n",
       "       'Kuldeep Yadav', 'Mohammed Siraj', 'Washington Sundar',\n",
       "       'SN Thakur', 'V Shankar', 'S Kaul', 'DL Chahar', 'KK Ahmed',\n",
       "       'KH Pandya', 'M Markande', 'NA Saini', 'RD Chahar', 'S Dube',\n",
       "       'T Natarajan', 'CV Varun', 'C Sakariya', 'S Sandeep Warrier',\n",
       "       'HV Patel', 'VR Iyer', 'Ravi Bishnoi', 'Avesh Khan', 'DJ Hooda',\n",
       "       'SS Iyer', 'Umran Malik', 'Arshdeep Singh', 'KD Karthik'],\n",
       "      dtype=object)"
      ]
     },
     "execution_count": 373,
     "metadata": {},
     "output_type": "execute_result"
    }
   ],
   "source": [
    "ind_bowling.bowler.unique()"
   ]
  },
  {
   "cell_type": "code",
   "execution_count": 374,
   "metadata": {},
   "outputs": [],
   "source": [
    "ind_bowling = ind_bowling[ind_bowling.bowler.isin(['JJ Bumrah', 'Mohammed Shami', 'Mohammed Siraj', 'DL Chahar', 'UT Yadav', 'SN Thakur', 'B Kumar', 'HH Pandya', 'Arshdeep Singh', 'HV Patel'])]"
   ]
  },
  {
   "cell_type": "code",
   "execution_count": 375,
   "metadata": {},
   "outputs": [],
   "source": [
    "def bowler_stat_generator(df):\n",
    "    runs = df[(df.legbyes.isnull()) & (df.byes.isnull())].groupby(['Phase', 'bowler']).Agg_runs.sum().reset_index()\n",
    "    balls = df[(df.wides.isnull()) & (df.noballs.isnull())].groupby(['Phase', 'bowler']).ball.count().reset_index()\n",
    "    dots = df[df.Agg_runs==0].groupby(['Phase', 'bowler']).ball.count().reset_index()\n",
    "    boundaries = df[df.runs_off_bat.isin([4,6])].groupby(['Phase', 'bowler']).runs_off_bat.count().reset_index()\n",
    "    wickets = df[df.wicket_type.isin(['caught', 'lbw', 'bowled', 'stumped', 'caught and bowled', 'hit wicket'])].groupby(['Phase', 'bowler']).player_dismissed.count().reset_index()\n",
    "\n",
    "    bowler_df = pd.merge(runs, balls, on = ['Phase', 'bowler'], how = 'inner').merge(dots, on = ['Phase', 'bowler'], how = 'inner').merge(boundaries, on = ['Phase', 'bowler'], how = 'inner').merge(wickets, on = ['Phase', 'bowler'], how = 'inner')\n",
    "    bowler_df.columns = ['Phase', 'Bowler', 'Runs_given', 'Balls_bowled', 'Dots', 'Boundaries', 'Wickets']\n",
    "    return bowler_df"
   ]
  },
  {
   "cell_type": "code",
   "execution_count": 376,
   "metadata": {},
   "outputs": [],
   "source": [
    "bowler_df = bowler_stat_generator(ind_bowling)\n",
    "bowler_df.to_csv('Bowlers_for_t20wc.csv')"
   ]
  },
  {
   "cell_type": "code",
   "execution_count": 370,
   "metadata": {},
   "outputs": [],
   "source": [
    "ind_bowlwing_in_AUS = ind_bowling[ind_bowling.venue.isin(['Adelaide Oval', 'Melbourne Cricket Ground', 'Sydney Cricket Ground', 'Brisbane Cricket Ground, Woolloongabba'])]"
   ]
  },
  {
   "cell_type": "code",
   "execution_count": 360,
   "metadata": {},
   "outputs": [],
   "source": [
    "bowler_df = bowler_stat_generator(ind_bowlwing_in_AUS)\n",
    "bowler_df.to_csv('Bowler_df_in_AUS.csv')"
   ]
  },
  {
   "cell_type": "markdown",
   "metadata": {},
   "source": [
    "#### **Pick a bowler who could bowl well in the death overs (16-20) in T20 cricket.**"
   ]
  },
  {
   "cell_type": "markdown",
   "metadata": {},
   "source": [
    "#### **KL Rahul as an opener vs in the middle order in T20s. Thoughts?**"
   ]
  }
 ],
 "metadata": {
  "kernelspec": {
   "display_name": "Python 3.9.5 64-bit",
   "language": "python",
   "name": "python3"
  },
  "language_info": {
   "codemirror_mode": {
    "name": "ipython",
    "version": 3
   },
   "file_extension": ".py",
   "mimetype": "text/x-python",
   "name": "python",
   "nbconvert_exporter": "python",
   "pygments_lexer": "ipython3",
   "version": "3.9.5"
  },
  "orig_nbformat": 4,
  "vscode": {
   "interpreter": {
    "hash": "2469a70536e4d2335a2ea8907942d0699c37342a371ac185bdb5b0aa6f073890"
   }
  }
 },
 "nbformat": 4,
 "nbformat_minor": 2
}
